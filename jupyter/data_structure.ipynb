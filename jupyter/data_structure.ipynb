{
 "cells": [
  {
   "cell_type": "code",
   "execution_count": 1,
   "id": "fca1486c",
   "metadata": {},
   "outputs": [],
   "source": [
    "import pandas as pd\n",
    "import pyarrow as pa\n",
    "import pyarrow.parquet as pq"
   ]
  },
  {
   "cell_type": "code",
   "execution_count": 2,
   "id": "38bfe983",
   "metadata": {},
   "outputs": [
    {
     "name": "stdout",
     "output_type": "stream",
     "text": [
      "\u001b[0m\u001b[01;32mdata_structure.ipynb\u001b[0m*\r\n"
     ]
    }
   ],
   "source": [
    "ls"
   ]
  },
  {
   "cell_type": "code",
   "execution_count": 3,
   "id": "1e416df8",
   "metadata": {},
   "outputs": [],
   "source": [
    "df = pd.read_csv('../dataset/washington/trips.csv', nrows=1000)"
   ]
  },
  {
   "cell_type": "code",
   "execution_count": 4,
   "id": "4ecd1613",
   "metadata": {},
   "outputs": [
    {
     "data": {
      "text/html": [
       "<div>\n",
       "<style scoped>\n",
       "    .dataframe tbody tr th:only-of-type {\n",
       "        vertical-align: middle;\n",
       "    }\n",
       "\n",
       "    .dataframe tbody tr th {\n",
       "        vertical-align: top;\n",
       "    }\n",
       "\n",
       "    .dataframe thead th {\n",
       "        text-align: right;\n",
       "    }\n",
       "</style>\n",
       "<table border=\"1\" class=\"dataframe\">\n",
       "  <thead>\n",
       "    <tr style=\"text-align: right;\">\n",
       "      <th></th>\n",
       "      <th>start_date</th>\n",
       "      <th>start_station_code</th>\n",
       "      <th>end_date</th>\n",
       "      <th>end_station_code</th>\n",
       "      <th>duration_sec</th>\n",
       "      <th>is_member</th>\n",
       "      <th>yearid</th>\n",
       "    </tr>\n",
       "  </thead>\n",
       "  <tbody>\n",
       "    <tr>\n",
       "      <th>0</th>\n",
       "      <td>2010-09-20 11:27:04</td>\n",
       "      <td>0</td>\n",
       "      <td>2010-09-20 11:43:56</td>\n",
       "      <td>27</td>\n",
       "      <td>1012.0</td>\n",
       "      <td>1</td>\n",
       "      <td>2010</td>\n",
       "    </tr>\n",
       "    <tr>\n",
       "      <th>1</th>\n",
       "      <td>2010-09-20 19:28:17</td>\n",
       "      <td>0</td>\n",
       "      <td>2010-09-20 19:36:25</td>\n",
       "      <td>27</td>\n",
       "      <td>488.0</td>\n",
       "      <td>1</td>\n",
       "      <td>2010</td>\n",
       "    </tr>\n",
       "    <tr>\n",
       "      <th>2</th>\n",
       "      <td>2010-09-21 08:13:04</td>\n",
       "      <td>0</td>\n",
       "      <td>2010-09-21 08:19:13</td>\n",
       "      <td>27</td>\n",
       "      <td>369.0</td>\n",
       "      <td>1</td>\n",
       "      <td>2010</td>\n",
       "    </tr>\n",
       "    <tr>\n",
       "      <th>3</th>\n",
       "      <td>2010-09-21 17:10:14</td>\n",
       "      <td>0</td>\n",
       "      <td>2010-09-21 17:32:55</td>\n",
       "      <td>27</td>\n",
       "      <td>1361.0</td>\n",
       "      <td>0</td>\n",
       "      <td>2010</td>\n",
       "    </tr>\n",
       "    <tr>\n",
       "      <th>4</th>\n",
       "      <td>2010-09-23 20:33:16</td>\n",
       "      <td>0</td>\n",
       "      <td>2010-09-23 20:50:07</td>\n",
       "      <td>27</td>\n",
       "      <td>1011.0</td>\n",
       "      <td>0</td>\n",
       "      <td>2010</td>\n",
       "    </tr>\n",
       "  </tbody>\n",
       "</table>\n",
       "</div>"
      ],
      "text/plain": [
       "            start_date  start_station_code             end_date  \\\n",
       "0  2010-09-20 11:27:04                   0  2010-09-20 11:43:56   \n",
       "1  2010-09-20 19:28:17                   0  2010-09-20 19:36:25   \n",
       "2  2010-09-21 08:13:04                   0  2010-09-21 08:19:13   \n",
       "3  2010-09-21 17:10:14                   0  2010-09-21 17:32:55   \n",
       "4  2010-09-23 20:33:16                   0  2010-09-23 20:50:07   \n",
       "\n",
       "   end_station_code  duration_sec  is_member  yearid  \n",
       "0                27        1012.0          1    2010  \n",
       "1                27         488.0          1    2010  \n",
       "2                27         369.0          1    2010  \n",
       "3                27        1361.0          0    2010  \n",
       "4                27        1011.0          0    2010  "
      ]
     },
     "execution_count": 4,
     "metadata": {},
     "output_type": "execute_result"
    }
   ],
   "source": [
    "df.head()"
   ]
  },
  {
   "cell_type": "code",
   "execution_count": 5,
   "id": "5b777ca6",
   "metadata": {},
   "outputs": [
    {
     "name": "stdout",
     "output_type": "stream",
     "text": [
      "CREATE TABLE \"BikeSharing\" (\n",
      "\"start_date\" TEXT,\n",
      "  \"start_station_code\" INTEGER,\n",
      "  \"end_date\" TEXT,\n",
      "  \"end_station_code\" INTEGER,\n",
      "  \"duration_sec\" REAL,\n",
      "  \"is_member\" INTEGER,\n",
      "  \"yearid\" INTEGER\n",
      ")\n"
     ]
    }
   ],
   "source": [
    "print(pd.io.sql.get_schema(df, 'BikeSharing'))"
   ]
  },
  {
   "cell_type": "code",
   "execution_count": 6,
   "id": "56d0fa3c",
   "metadata": {},
   "outputs": [],
   "source": [
    "df.start_date = pd.to_datetime(df.start_date)\n",
    "df.end_date = pd.to_datetime(df.end_date)"
   ]
  },
  {
   "cell_type": "code",
   "execution_count": 7,
   "id": "42f8a499",
   "metadata": {},
   "outputs": [
    {
     "name": "stdout",
     "output_type": "stream",
     "text": [
      "CREATE TABLE \"BikeSharing\" (\n",
      "\"start_date\" TIMESTAMP,\n",
      "  \"start_station_code\" INTEGER,\n",
      "  \"end_date\" TIMESTAMP,\n",
      "  \"end_station_code\" INTEGER,\n",
      "  \"duration_sec\" REAL,\n",
      "  \"is_member\" INTEGER,\n",
      "  \"yearid\" INTEGER\n",
      ")\n"
     ]
    }
   ],
   "source": [
    "print(pd.io.sql.get_schema(df, 'BikeSharing'))"
   ]
  },
  {
   "cell_type": "code",
   "execution_count": 8,
   "id": "f154bf7b",
   "metadata": {},
   "outputs": [
    {
     "data": {
      "text/html": [
       "<div>\n",
       "<style scoped>\n",
       "    .dataframe tbody tr th:only-of-type {\n",
       "        vertical-align: middle;\n",
       "    }\n",
       "\n",
       "    .dataframe tbody tr th {\n",
       "        vertical-align: top;\n",
       "    }\n",
       "\n",
       "    .dataframe thead th {\n",
       "        text-align: right;\n",
       "    }\n",
       "</style>\n",
       "<table border=\"1\" class=\"dataframe\">\n",
       "  <thead>\n",
       "    <tr style=\"text-align: right;\">\n",
       "      <th></th>\n",
       "      <th>code</th>\n",
       "      <th>name</th>\n",
       "      <th>latitude</th>\n",
       "      <th>longitude</th>\n",
       "      <th>yearid</th>\n",
       "    </tr>\n",
       "  </thead>\n",
       "  <tbody>\n",
       "    <tr>\n",
       "      <th>0</th>\n",
       "      <td>0</td>\n",
       "      <td>M St &amp; New Jersey Ave SE</td>\n",
       "      <td>NaN</td>\n",
       "      <td>NaN</td>\n",
       "      <td>2010</td>\n",
       "    </tr>\n",
       "    <tr>\n",
       "      <th>1</th>\n",
       "      <td>1</td>\n",
       "      <td>1st &amp; N St  SE</td>\n",
       "      <td>NaN</td>\n",
       "      <td>NaN</td>\n",
       "      <td>2010</td>\n",
       "    </tr>\n",
       "    <tr>\n",
       "      <th>2</th>\n",
       "      <td>2</td>\n",
       "      <td>5th &amp; K St NW</td>\n",
       "      <td>NaN</td>\n",
       "      <td>NaN</td>\n",
       "      <td>2010</td>\n",
       "    </tr>\n",
       "    <tr>\n",
       "      <th>3</th>\n",
       "      <td>3</td>\n",
       "      <td>19th St &amp; Pennsylvania Ave NW</td>\n",
       "      <td>NaN</td>\n",
       "      <td>NaN</td>\n",
       "      <td>2010</td>\n",
       "    </tr>\n",
       "    <tr>\n",
       "      <th>4</th>\n",
       "      <td>4</td>\n",
       "      <td>7th &amp; T St NW</td>\n",
       "      <td>NaN</td>\n",
       "      <td>NaN</td>\n",
       "      <td>2010</td>\n",
       "    </tr>\n",
       "  </tbody>\n",
       "</table>\n",
       "</div>"
      ],
      "text/plain": [
       "   code                           name  latitude  longitude  yearid\n",
       "0     0       M St & New Jersey Ave SE       NaN        NaN    2010\n",
       "1     1                 1st & N St  SE       NaN        NaN    2010\n",
       "2     2                  5th & K St NW       NaN        NaN    2010\n",
       "3     3  19th St & Pennsylvania Ave NW       NaN        NaN    2010\n",
       "4     4                  7th & T St NW       NaN        NaN    2010"
      ]
     },
     "execution_count": 8,
     "metadata": {},
     "output_type": "execute_result"
    }
   ],
   "source": [
    "df_stations = pd.read_csv('../dataset/washington/stations.csv', nrows=1000)\n",
    "df_stations.head()"
   ]
  },
  {
   "cell_type": "code",
   "execution_count": 9,
   "id": "6e67bcad",
   "metadata": {},
   "outputs": [
    {
     "name": "stdout",
     "output_type": "stream",
     "text": [
      "CREATE TABLE \"Station\" (\n",
      "\"code\" INTEGER,\n",
      "  \"name\" TEXT,\n",
      "  \"latitude\" REAL,\n",
      "  \"longitude\" REAL,\n",
      "  \"yearid\" INTEGER\n",
      ")\n"
     ]
    }
   ],
   "source": [
    "print(pd.io.sql.get_schema(df_stations, 'Station'))"
   ]
  },
  {
   "cell_type": "code",
   "execution_count": 10,
   "id": "c1093fda",
   "metadata": {},
   "outputs": [
    {
     "data": {
      "text/html": [
       "<div>\n",
       "<style scoped>\n",
       "    .dataframe tbody tr th:only-of-type {\n",
       "        vertical-align: middle;\n",
       "    }\n",
       "\n",
       "    .dataframe tbody tr th {\n",
       "        vertical-align: top;\n",
       "    }\n",
       "\n",
       "    .dataframe thead th {\n",
       "        text-align: right;\n",
       "    }\n",
       "</style>\n",
       "<table border=\"1\" class=\"dataframe\">\n",
       "  <thead>\n",
       "    <tr style=\"text-align: right;\">\n",
       "      <th></th>\n",
       "      <th>date</th>\n",
       "      <th>prectot</th>\n",
       "      <th>qv2m</th>\n",
       "      <th>rh2m</th>\n",
       "      <th>ps</th>\n",
       "      <th>t2m_range</th>\n",
       "      <th>ts</th>\n",
       "      <th>t2mdew</th>\n",
       "      <th>t2mwet</th>\n",
       "      <th>t2m_max</th>\n",
       "      <th>t2m_min</th>\n",
       "      <th>t2m</th>\n",
       "      <th>ws50m_range</th>\n",
       "      <th>ws10m_range</th>\n",
       "      <th>ws50m_min</th>\n",
       "      <th>ws10m_min</th>\n",
       "      <th>ws50m_max</th>\n",
       "      <th>ws10m_max</th>\n",
       "      <th>ws50m</th>\n",
       "      <th>ws10m</th>\n",
       "    </tr>\n",
       "  </thead>\n",
       "  <tbody>\n",
       "    <tr>\n",
       "      <th>0</th>\n",
       "      <td>2010-10-20</td>\n",
       "      <td>3.31</td>\n",
       "      <td>7.80</td>\n",
       "      <td>95.17</td>\n",
       "      <td>100.22</td>\n",
       "      <td>5.75</td>\n",
       "      <td>10.81</td>\n",
       "      <td>10.26</td>\n",
       "      <td>10.26</td>\n",
       "      <td>13.95</td>\n",
       "      <td>8.20</td>\n",
       "      <td>11.00</td>\n",
       "      <td>4.48</td>\n",
       "      <td>1.68</td>\n",
       "      <td>0.94</td>\n",
       "      <td>0.87</td>\n",
       "      <td>5.43</td>\n",
       "      <td>2.56</td>\n",
       "      <td>2.87</td>\n",
       "      <td>1.61</td>\n",
       "    </tr>\n",
       "    <tr>\n",
       "      <th>1</th>\n",
       "      <td>2010-10-21</td>\n",
       "      <td>0.22</td>\n",
       "      <td>5.99</td>\n",
       "      <td>72.13</td>\n",
       "      <td>99.76</td>\n",
       "      <td>11.73</td>\n",
       "      <td>11.03</td>\n",
       "      <td>6.22</td>\n",
       "      <td>6.22</td>\n",
       "      <td>18.45</td>\n",
       "      <td>6.72</td>\n",
       "      <td>11.14</td>\n",
       "      <td>2.93</td>\n",
       "      <td>2.64</td>\n",
       "      <td>4.94</td>\n",
       "      <td>2.62</td>\n",
       "      <td>7.87</td>\n",
       "      <td>5.27</td>\n",
       "      <td>6.31</td>\n",
       "      <td>3.67</td>\n",
       "    </tr>\n",
       "    <tr>\n",
       "      <th>2</th>\n",
       "      <td>2010-10-22</td>\n",
       "      <td>0.02</td>\n",
       "      <td>4.47</td>\n",
       "      <td>62.97</td>\n",
       "      <td>100.92</td>\n",
       "      <td>9.06</td>\n",
       "      <td>8.46</td>\n",
       "      <td>2.29</td>\n",
       "      <td>2.32</td>\n",
       "      <td>14.01</td>\n",
       "      <td>4.95</td>\n",
       "      <td>9.00</td>\n",
       "      <td>4.71</td>\n",
       "      <td>3.54</td>\n",
       "      <td>2.70</td>\n",
       "      <td>1.85</td>\n",
       "      <td>7.42</td>\n",
       "      <td>5.39</td>\n",
       "      <td>5.61</td>\n",
       "      <td>3.42</td>\n",
       "    </tr>\n",
       "    <tr>\n",
       "      <th>3</th>\n",
       "      <td>2010-10-23</td>\n",
       "      <td>0.00</td>\n",
       "      <td>5.80</td>\n",
       "      <td>70.08</td>\n",
       "      <td>101.27</td>\n",
       "      <td>17.58</td>\n",
       "      <td>11.08</td>\n",
       "      <td>5.67</td>\n",
       "      <td>5.68</td>\n",
       "      <td>20.59</td>\n",
       "      <td>3.01</td>\n",
       "      <td>11.32</td>\n",
       "      <td>4.64</td>\n",
       "      <td>1.46</td>\n",
       "      <td>2.59</td>\n",
       "      <td>2.07</td>\n",
       "      <td>7.23</td>\n",
       "      <td>3.53</td>\n",
       "      <td>5.07</td>\n",
       "      <td>2.85</td>\n",
       "    </tr>\n",
       "    <tr>\n",
       "      <th>4</th>\n",
       "      <td>2010-10-24</td>\n",
       "      <td>0.00</td>\n",
       "      <td>7.91</td>\n",
       "      <td>76.84</td>\n",
       "      <td>100.92</td>\n",
       "      <td>13.73</td>\n",
       "      <td>14.40</td>\n",
       "      <td>10.52</td>\n",
       "      <td>10.52</td>\n",
       "      <td>22.87</td>\n",
       "      <td>9.14</td>\n",
       "      <td>14.59</td>\n",
       "      <td>3.84</td>\n",
       "      <td>0.75</td>\n",
       "      <td>3.27</td>\n",
       "      <td>2.33</td>\n",
       "      <td>7.10</td>\n",
       "      <td>3.08</td>\n",
       "      <td>5.05</td>\n",
       "      <td>2.67</td>\n",
       "    </tr>\n",
       "  </tbody>\n",
       "</table>\n",
       "</div>"
      ],
      "text/plain": [
       "         date  prectot  qv2m   rh2m      ps  t2m_range     ts  t2mdew  t2mwet  \\\n",
       "0  2010-10-20     3.31  7.80  95.17  100.22       5.75  10.81   10.26   10.26   \n",
       "1  2010-10-21     0.22  5.99  72.13   99.76      11.73  11.03    6.22    6.22   \n",
       "2  2010-10-22     0.02  4.47  62.97  100.92       9.06   8.46    2.29    2.32   \n",
       "3  2010-10-23     0.00  5.80  70.08  101.27      17.58  11.08    5.67    5.68   \n",
       "4  2010-10-24     0.00  7.91  76.84  100.92      13.73  14.40   10.52   10.52   \n",
       "\n",
       "   t2m_max  t2m_min    t2m  ws50m_range  ws10m_range  ws50m_min  ws10m_min  \\\n",
       "0    13.95     8.20  11.00         4.48         1.68       0.94       0.87   \n",
       "1    18.45     6.72  11.14         2.93         2.64       4.94       2.62   \n",
       "2    14.01     4.95   9.00         4.71         3.54       2.70       1.85   \n",
       "3    20.59     3.01  11.32         4.64         1.46       2.59       2.07   \n",
       "4    22.87     9.14  14.59         3.84         0.75       3.27       2.33   \n",
       "\n",
       "   ws50m_max  ws10m_max  ws50m  ws10m  \n",
       "0       5.43       2.56   2.87   1.61  \n",
       "1       7.87       5.27   6.31   3.67  \n",
       "2       7.42       5.39   5.61   3.42  \n",
       "3       7.23       3.53   5.07   2.85  \n",
       "4       7.10       3.08   5.05   2.67  "
      ]
     },
     "execution_count": 10,
     "metadata": {},
     "output_type": "execute_result"
    }
   ],
   "source": [
    "df_weather = pd.read_csv('../dataset/washington/weather.csv', nrows=1000)\n",
    "df_weather.head()"
   ]
  },
  {
   "cell_type": "code",
   "execution_count": 11,
   "id": "825527fd",
   "metadata": {},
   "outputs": [
    {
     "name": "stdout",
     "output_type": "stream",
     "text": [
      "CREATE TABLE \"Weather\" (\n",
      "\"date\" TEXT,\n",
      "  \"prectot\" REAL,\n",
      "  \"qv2m\" REAL,\n",
      "  \"rh2m\" REAL,\n",
      "  \"ps\" REAL,\n",
      "  \"t2m_range\" REAL,\n",
      "  \"ts\" REAL,\n",
      "  \"t2mdew\" REAL,\n",
      "  \"t2mwet\" REAL,\n",
      "  \"t2m_max\" REAL,\n",
      "  \"t2m_min\" REAL,\n",
      "  \"t2m\" REAL,\n",
      "  \"ws50m_range\" REAL,\n",
      "  \"ws10m_range\" REAL,\n",
      "  \"ws50m_min\" REAL,\n",
      "  \"ws10m_min\" REAL,\n",
      "  \"ws50m_max\" REAL,\n",
      "  \"ws10m_max\" REAL,\n",
      "  \"ws50m\" REAL,\n",
      "  \"ws10m\" REAL\n",
      ")\n"
     ]
    }
   ],
   "source": [
    "print(pd.io.sql.get_schema(df_weather, 'Weather'))"
   ]
  },
  {
   "cell_type": "code",
   "execution_count": 12,
   "id": "2891d6de",
   "metadata": {},
   "outputs": [
    {
     "name": "stdout",
     "output_type": "stream",
     "text": [
      "CREATE TABLE \"Weather\" (\n",
      "\"date\" TIMESTAMP,\n",
      "  \"prectot\" REAL,\n",
      "  \"qv2m\" REAL,\n",
      "  \"rh2m\" REAL,\n",
      "  \"ps\" REAL,\n",
      "  \"t2m_range\" REAL,\n",
      "  \"ts\" REAL,\n",
      "  \"t2mdew\" REAL,\n",
      "  \"t2mwet\" REAL,\n",
      "  \"t2m_max\" REAL,\n",
      "  \"t2m_min\" REAL,\n",
      "  \"t2m\" REAL,\n",
      "  \"ws50m_range\" REAL,\n",
      "  \"ws10m_range\" REAL,\n",
      "  \"ws50m_min\" REAL,\n",
      "  \"ws10m_min\" REAL,\n",
      "  \"ws50m_max\" REAL,\n",
      "  \"ws10m_max\" REAL,\n",
      "  \"ws50m\" REAL,\n",
      "  \"ws10m\" REAL\n",
      ")\n"
     ]
    }
   ],
   "source": [
    "df_weather.date = pd.to_datetime(df_weather.date)\n",
    "print(pd.io.sql.get_schema(df_weather, 'Weather'))"
   ]
  },
  {
   "cell_type": "code",
   "execution_count": 36,
   "id": "d58fa4d1",
   "metadata": {},
   "outputs": [],
   "source": [
    "weather_table = pa.Table.from_pandas(df_weather)\n",
    "pq.write_table(weather_table, 'weather.parquet')"
   ]
  },
  {
   "cell_type": "code",
   "execution_count": 37,
   "id": "cc8facd7",
   "metadata": {},
   "outputs": [],
   "source": [
    "stations_table = pa.Table.from_pandas(df_stations)\n",
    "pq.write_table(stations_table, 'stations.parquet')"
   ]
  },
  {
   "cell_type": "code",
   "execution_count": 38,
   "id": "a9445177",
   "metadata": {},
   "outputs": [],
   "source": [
    "trips_table = pa.Table.from_pandas(df)\n",
    "pq.write_table(trips_table, 'bike_sharing.parquet')"
   ]
  },
  {
   "cell_type": "code",
   "execution_count": null,
   "id": "c41f2520",
   "metadata": {},
   "outputs": [],
   "source": []
  }
 ],
 "metadata": {
  "kernelspec": {
   "display_name": "Python 3 (ipykernel)",
   "language": "python",
   "name": "python3"
  },
  "language_info": {
   "codemirror_mode": {
    "name": "ipython",
    "version": 3
   },
   "file_extension": ".py",
   "mimetype": "text/x-python",
   "name": "python",
   "nbconvert_exporter": "python",
   "pygments_lexer": "ipython3",
   "version": "3.10.9"
  }
 },
 "nbformat": 4,
 "nbformat_minor": 5
}
